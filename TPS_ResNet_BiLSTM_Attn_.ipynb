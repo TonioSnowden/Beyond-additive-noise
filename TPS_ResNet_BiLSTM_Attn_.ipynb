{
  "nbformat": 4,
  "nbformat_minor": 0,
  "metadata": {
    "colab": {
      "provenance": []
    },
    "kernelspec": {
      "name": "python3",
      "display_name": "Python 3"
    },
    "accelerator": "GPU"
  },
  "cells": [
    {
      "cell_type": "markdown",
      "metadata": {
        "id": "dHbHK60Tqn2c"
      },
      "source": [
        "This can be executed in https://colab.research.google.com \"Python 3 / GPU\" runtime."
      ]
    },
    {
      "cell_type": "code",
      "metadata": {
        "id": "Pi-PA14AhdK-",
        "colab": {
          "base_uri": "https://localhost:8080/"
        },
        "outputId": "a898949a-ef4e-4ab5-86fb-1b72cab28f92"
      },
      "source": [
        "!git clone https://github.com/clovaai/deep-text-recognition-benchmark\n",
        "%cd deep-text-recognition-benchmark"
      ],
      "execution_count": null,
      "outputs": [
        {
          "output_type": "stream",
          "name": "stdout",
          "text": [
            "Cloning into 'deep-text-recognition-benchmark'...\n",
            "remote: Enumerating objects: 499, done.\u001b[K\n",
            "remote: Counting objects: 100% (4/4), done.\u001b[K\n",
            "remote: Compressing objects: 100% (4/4), done.\u001b[K\n",
            "remote: Total 499 (delta 0), reused 1 (delta 0), pack-reused 495\u001b[K\n",
            "Receiving objects: 100% (499/499), 3.07 MiB | 6.88 MiB/s, done.\n",
            "Resolving deltas: 100% (301/301), done.\n",
            "/content/deep-text-recognition-benchmark\n"
          ]
        }
      ]
    },
    {
      "cell_type": "markdown",
      "metadata": {
        "id": "jX-ucvimlaFZ"
      },
      "source": [
        "Next, download large model files from Google Drive, using hack: https://stackoverflow.com/questions/20665881/direct-download-from-google-drive-using-google-drive-api/32742700#32742700"
      ]
    },
    {
      "cell_type": "code",
      "metadata": {
        "id": "9eEhhPBshkjr",
        "colab": {
          "base_uri": "https://localhost:8080/"
        },
        "outputId": "4dee1ff5-0d70-40e5-f57d-81e9d640ad42"
      },
      "source": [
        "models = {\n",
        "    'None-ResNet-None-CTC.pth': 'https://drive.google.com/open?id=1FocnxQzFBIjDT2F9BkNUiLdo1cC3eaO0',\n",
        "    'None-VGG-BiLSTM-CTC.pth': 'https://drive.google.com/open?id=1GGC2IRYEMQviZhqQpbtpeTgHO_IXWetG',\n",
        "    'None-VGG-None-CTC.pth': 'https://drive.google.com/open?id=1FS3aZevvLiGF1PFBm5SkwvVcgI6hJWL9',\n",
        "    'TPS-ResNet-BiLSTM-Attn-case-sensitive.pth': 'https://drive.google.com/open?id=1ajONZOgiG9pEYsQ-eBmgkVbMDuHgPCaY',\n",
        "    'TPS-ResNet-BiLSTM-Attn.pth': 'https://drive.google.com/open?id=1b59rXuGGmKne1AuHnkgDzoYgKeETNMv9',\n",
        "    'TPS-ResNet-BiLSTM-CTC.pth': 'https://drive.google.com/open?id=1FocnxQzFBIjDT2F9BkNUiLdo1cC3eaO0',\n",
        "}\n",
        "\n",
        "for k, v in models.items():\n",
        "  doc_id = v[v.find('=')+1:]\n",
        "  !curl -c /tmp/cookies \"https://drive.google.com/uc?export=download&id=$doc_id\" > /tmp/intermezzo.html\n",
        "  !curl -L -b /tmp/cookies \"https://drive.google.com$(cat /tmp/intermezzo.html | grep -Po 'uc-download-link\" [^>]* href=\"\\K[^\"]*' | sed 's/\\&amp;/\\&/g')\" > $k\n",
        "\n",
        "!ls -al *.pth"
      ],
      "execution_count": null,
      "outputs": [
        {
          "output_type": "stream",
          "name": "stdout",
          "text": [
            "  % Total    % Received % Xferd  Average Speed   Time    Time     Time  Current\n",
            "                                 Dload  Upload   Total   Spent    Left  Speed\n",
            "100  2288    0  2288    0     0   8633      0 --:--:-- --:--:-- --:--:--  8666\n",
            "  % Total    % Received % Xferd  Average Speed   Time    Time     Time  Current\n",
            "                                 Dload  Upload   Total   Spent    Left  Speed\n",
            "  0     0    0     0    0     0      0      0 --:--:-- --:--:-- --:--:--     0\n",
            "  0     0    0     0    0     0      0      0 --:--:-- --:--:-- --:--:--     0\n",
            "100   558  100   558    0     0    783      0 --:--:-- --:--:-- --:--:--   783\n",
            "100  580k    0  580k    0     0   641k      0 --:--:-- --:--:-- --:--:--  641k\n",
            "  % Total    % Received % Xferd  Average Speed   Time    Time     Time  Current\n",
            "                                 Dload  Upload   Total   Spent    Left  Speed\n",
            "  0     0    0     0    0     0      0      0 --:--:--  0:00:01 --:--:--     0\n",
            "  % Total    % Received % Xferd  Average Speed   Time    Time     Time  Current\n",
            "                                 Dload  Upload   Total   Spent    Left  Speed\n",
            "  0     0    0     0    0     0      0      0 --:--:-- --:--:-- --:--:--     0\n",
            "  0     0    0     0    0     0      0      0 --:--:-- --:--:-- --:--:--     0\n",
            "100   557  100   557    0     0    943      0 --:--:-- --:--:-- --:--:--     0\n",
            "100  580k    0  580k    0     0   704k      0 --:--:-- --:--:-- --:--:--  704k\n",
            "  % Total    % Received % Xferd  Average Speed   Time    Time     Time  Current\n",
            "                                 Dload  Upload   Total   Spent    Left  Speed\n",
            "  0     0    0     0    0     0      0      0 --:--:--  0:00:01 --:--:--     0\n",
            "  % Total    % Received % Xferd  Average Speed   Time    Time     Time  Current\n",
            "                                 Dload  Upload   Total   Spent    Left  Speed\n",
            "  0     0    0     0    0     0      0      0 --:--:-- --:--:-- --:--:--     0\n",
            "  0     0    0     0    0     0      0      0 --:--:-- --:--:-- --:--:--     0\n",
            "100   559  100   559    0     0    707      0 --:--:-- --:--:-- --:--:--   707\n",
            "100  580k    0  580k    0     0   444k      0 --:--:--  0:00:01 --:--:--  444k\n",
            "  % Total    % Received % Xferd  Average Speed   Time    Time     Time  Current\n",
            "                                 Dload  Upload   Total   Spent    Left  Speed\n",
            "100  2304    0  2304    0     0  11987      0 --:--:-- --:--:-- --:--:-- 12000\n",
            "  % Total    % Received % Xferd  Average Speed   Time    Time     Time  Current\n",
            "                                 Dload  Upload   Total   Spent    Left  Speed\n",
            "  0     0    0     0    0     0      0      0 --:--:-- --:--:-- --:--:--     0\n",
            "  0     0    0     0    0     0      0      0 --:--:-- --:--:-- --:--:--     0\n",
            "100   560  100   560    0     0    925      0 --:--:-- --:--:-- --:--:--   925\n",
            "100  580k    0  580k    0     0   767k      0 --:--:-- --:--:-- --:--:-- 9508k\n",
            "  % Total    % Received % Xferd  Average Speed   Time    Time     Time  Current\n",
            "                                 Dload  Upload   Total   Spent    Left  Speed\n",
            "100  2289    0  2289    0     0  11690      0 --:--:-- --:--:-- --:--:-- 11738\n",
            "  % Total    % Received % Xferd  Average Speed   Time    Time     Time  Current\n",
            "                                 Dload  Upload   Total   Spent    Left  Speed\n",
            "  0     0    0     0    0     0      0      0 --:--:-- --:--:-- --:--:--     0\n",
            "  0     0    0     0    0     0      0      0 --:--:-- --:--:-- --:--:--     0\n",
            "100   560  100   560    0     0    946      0 --:--:-- --:--:-- --:--:--     0\n",
            "100  580k    0  580k    0     0   723k      0 --:--:-- --:--:-- --:--:--  723k\n",
            "  % Total    % Received % Xferd  Average Speed   Time    Time     Time  Current\n",
            "                                 Dload  Upload   Total   Spent    Left  Speed\n",
            "100  2288    0  2288    0     0   6410      0 --:--:-- --:--:-- --:--:--  6426\n",
            "  % Total    % Received % Xferd  Average Speed   Time    Time     Time  Current\n",
            "                                 Dload  Upload   Total   Spent    Left  Speed\n",
            "  0     0    0     0    0     0      0      0 --:--:-- --:--:-- --:--:--     0\n",
            "  0     0    0     0    0     0      0      0 --:--:-- --:--:-- --:--:--     0\n",
            "100   560  100   560    0     0    946      0 --:--:-- --:--:-- --:--:--   946\n",
            "100  580k    0  580k    0     0   779k      0 --:--:-- --:--:-- --:--:--  779k\n",
            "-rw-r--r-- 1 root root 594507 Nov 26 15:49 None-ResNet-None-CTC.pth\n",
            "-rw-r--r-- 1 root root 594491 Nov 26 15:49 None-VGG-BiLSTM-CTC.pth\n",
            "-rw-r--r-- 1 root root 594252 Nov 26 15:49 None-VGG-None-CTC.pth\n",
            "-rw-r--r-- 1 root root 594097 Nov 26 15:49 TPS-ResNet-BiLSTM-Attn-case-sensitive.pth\n",
            "-rw-r--r-- 1 root root 594589 Nov 26 15:49 TPS-ResNet-BiLSTM-Attn.pth\n",
            "-rw-r--r-- 1 root root 594146 Nov 26 15:49 TPS-ResNet-BiLSTM-CTC.pth\n"
          ]
        }
      ]
    },
    {
      "cell_type": "code",
      "metadata": {
        "id": "s-E716WnhfrI",
        "colab": {
          "base_uri": "https://localhost:8080/"
        },
        "outputId": "b359644d-7c5f-4748-e9ab-6841d968104e"
      },
      "source": [
        "from google.colab import drive\n",
        "drive.mount('/content/drive')\n"
      ],
      "execution_count": null,
      "outputs": [
        {
          "output_type": "stream",
          "name": "stdout",
          "text": [
            "Mounted at /content/drive\n"
          ]
        }
      ]
    },
    {
      "cell_type": "code",
      "source": [
        "!pip install torch torchvision\n"
      ],
      "metadata": {
        "id": "KGLAPu_nVfww",
        "outputId": "bdacea9f-6fd8-41f2-b1cc-456e0cfada30",
        "colab": {
          "base_uri": "https://localhost:8080/"
        }
      },
      "execution_count": null,
      "outputs": [
        {
          "output_type": "stream",
          "name": "stdout",
          "text": [
            "Requirement already satisfied: torch in /usr/local/lib/python3.10/dist-packages (2.1.0+cu118)\n",
            "Requirement already satisfied: torchvision in /usr/local/lib/python3.10/dist-packages (0.16.0+cu118)\n",
            "Requirement already satisfied: filelock in /usr/local/lib/python3.10/dist-packages (from torch) (3.13.1)\n",
            "Requirement already satisfied: typing-extensions in /usr/local/lib/python3.10/dist-packages (from torch) (4.5.0)\n",
            "Requirement already satisfied: sympy in /usr/local/lib/python3.10/dist-packages (from torch) (1.12)\n",
            "Requirement already satisfied: networkx in /usr/local/lib/python3.10/dist-packages (from torch) (3.2.1)\n",
            "Requirement already satisfied: jinja2 in /usr/local/lib/python3.10/dist-packages (from torch) (3.1.2)\n",
            "Requirement already satisfied: fsspec in /usr/local/lib/python3.10/dist-packages (from torch) (2023.6.0)\n",
            "Requirement already satisfied: triton==2.1.0 in /usr/local/lib/python3.10/dist-packages (from torch) (2.1.0)\n",
            "Requirement already satisfied: numpy in /usr/local/lib/python3.10/dist-packages (from torchvision) (1.23.5)\n",
            "Requirement already satisfied: requests in /usr/local/lib/python3.10/dist-packages (from torchvision) (2.31.0)\n",
            "Requirement already satisfied: pillow!=8.3.*,>=5.3.0 in /usr/local/lib/python3.10/dist-packages (from torchvision) (9.4.0)\n",
            "Requirement already satisfied: MarkupSafe>=2.0 in /usr/local/lib/python3.10/dist-packages (from jinja2->torch) (2.1.3)\n",
            "Requirement already satisfied: charset-normalizer<4,>=2 in /usr/local/lib/python3.10/dist-packages (from requests->torchvision) (3.3.2)\n",
            "Requirement already satisfied: idna<4,>=2.5 in /usr/local/lib/python3.10/dist-packages (from requests->torchvision) (3.4)\n",
            "Requirement already satisfied: urllib3<3,>=1.21.1 in /usr/local/lib/python3.10/dist-packages (from requests->torchvision) (2.0.7)\n",
            "Requirement already satisfied: certifi>=2017.4.17 in /usr/local/lib/python3.10/dist-packages (from requests->torchvision) (2023.7.22)\n",
            "Requirement already satisfied: mpmath>=0.19 in /usr/local/lib/python3.10/dist-packages (from sympy->torch) (1.3.0)\n"
          ]
        }
      ]
    },
    {
      "cell_type": "code",
      "source": [
        "# downloading the dataset\n",
        "!wget -O dataset.zip \"https://www.dropbox.com/sh/i39abvnefllx2si/AAAbAYRvxzRp3cIE5HzqUw3ra?dl=1\"\n",
        "!unzip dataset.zip -d ./dataset\n"
      ],
      "metadata": {
        "id": "sJY_XgA0VcUZ",
        "outputId": "3dc6bd3d-ef58-4030-e220-ebbd37d41980",
        "colab": {
          "base_uri": "https://localhost:8080/"
        }
      },
      "execution_count": null,
      "outputs": [
        {
          "output_type": "stream",
          "name": "stdout",
          "text": [
            "--2023-11-26 15:53:48--  https://www.dropbox.com/sh/i39abvnefllx2si/AAAbAYRvxzRp3cIE5HzqUw3ra?dl=1\n",
            "Resolving www.dropbox.com (www.dropbox.com)... 162.125.2.18, 2620:100:6017:18::a27d:212\n",
            "Connecting to www.dropbox.com (www.dropbox.com)|162.125.2.18|:443... connected.\n",
            "HTTP request sent, awaiting response... 302 Found\n",
            "Location: /sh/dl/i39abvnefllx2si/AAAbAYRvxzRp3cIE5HzqUw3ra [following]\n",
            "--2023-11-26 15:53:48--  https://www.dropbox.com/sh/dl/i39abvnefllx2si/AAAbAYRvxzRp3cIE5HzqUw3ra\n",
            "Reusing existing connection to www.dropbox.com:443.\n",
            "HTTP request sent, awaiting response... 302 Found\n",
            "Location: https://uc4396385310282b4ef71abf4ec3.dl.dropboxusercontent.com/zip_download_get/Brq4gQvNfJs_ZGR-_GynUnpoSwpdApKLkmwHdceTQs1fYt9p5CzYsEnXXprFL0tx8SyWWacMdE_LyMHvSdp7VqddYmcTz6LarSgx73LoxIW6Fg?dl=1# [following]\n",
            "--2023-11-26 15:53:48--  https://uc4396385310282b4ef71abf4ec3.dl.dropboxusercontent.com/zip_download_get/Brq4gQvNfJs_ZGR-_GynUnpoSwpdApKLkmwHdceTQs1fYt9p5CzYsEnXXprFL0tx8SyWWacMdE_LyMHvSdp7VqddYmcTz6LarSgx73LoxIW6Fg?dl=1\n",
            "Resolving uc4396385310282b4ef71abf4ec3.dl.dropboxusercontent.com (uc4396385310282b4ef71abf4ec3.dl.dropboxusercontent.com)... 162.125.4.15, 2620:100:6057:15::a27d:d0f\n",
            "Connecting to uc4396385310282b4ef71abf4ec3.dl.dropboxusercontent.com (uc4396385310282b4ef71abf4ec3.dl.dropboxusercontent.com)|162.125.4.15|:443... connected.\n",
            "HTTP request sent, awaiting response... 200 OK\n",
            "Length: 23344948659 (22G) [application/zip]\n",
            "Saving to: ‘dataset.zip’\n",
            "\n",
            "dataset.zip         100%[===================>]  21.74G  62.6MB/s    in 7m 18s  \n",
            "\n",
            "2023-11-26 16:01:07 (50.8 MB/s) - ‘dataset.zip’ saved [23344948659/23344948659]\n",
            "\n",
            "Archive:  dataset.zip\n",
            "warning:  stripped absolute path spec from /\n",
            "mapname:  conversion of  failed\n",
            " extracting: ./dataset/ST_spe.zip    \n",
            " extracting: ./dataset/README.txt    \n",
            " extracting: ./dataset/validation.zip  \n",
            " extracting: ./dataset/evaluation.zip  \n",
            " extracting: ./dataset/data_lmdb_release.zip  \n"
          ]
        }
      ]
    },
    {
      "cell_type": "code",
      "source": [
        "# requirements\n",
        "!pip3 install lmdb pillow torchvision nltk natsort"
      ],
      "metadata": {
        "id": "51muAFZDVl0M",
        "outputId": "30bace9b-c7ad-41bc-f043-781712776532",
        "colab": {
          "base_uri": "https://localhost:8080/"
        }
      },
      "execution_count": null,
      "outputs": [
        {
          "output_type": "stream",
          "name": "stdout",
          "text": [
            "Collecting lmdb\n",
            "  Downloading lmdb-1.4.1-cp310-cp310-manylinux_2_17_x86_64.manylinux2014_x86_64.whl (299 kB)\n",
            "\u001b[2K     \u001b[90m━━━━━━━━━━━━━━━━━━━━━━━━━━━━━━━━━━━━━━━━\u001b[0m \u001b[32m299.2/299.2 kB\u001b[0m \u001b[31m4.2 MB/s\u001b[0m eta \u001b[36m0:00:00\u001b[0m\n",
            "\u001b[?25hRequirement already satisfied: pillow in /usr/local/lib/python3.10/dist-packages (9.4.0)\n",
            "Requirement already satisfied: torchvision in /usr/local/lib/python3.10/dist-packages (0.16.0+cu118)\n",
            "Requirement already satisfied: nltk in /usr/local/lib/python3.10/dist-packages (3.8.1)\n",
            "Requirement already satisfied: natsort in /usr/local/lib/python3.10/dist-packages (8.4.0)\n",
            "Requirement already satisfied: numpy in /usr/local/lib/python3.10/dist-packages (from torchvision) (1.23.5)\n",
            "Requirement already satisfied: requests in /usr/local/lib/python3.10/dist-packages (from torchvision) (2.31.0)\n",
            "Requirement already satisfied: torch==2.1.0 in /usr/local/lib/python3.10/dist-packages (from torchvision) (2.1.0+cu118)\n",
            "Requirement already satisfied: filelock in /usr/local/lib/python3.10/dist-packages (from torch==2.1.0->torchvision) (3.13.1)\n",
            "Requirement already satisfied: typing-extensions in /usr/local/lib/python3.10/dist-packages (from torch==2.1.0->torchvision) (4.5.0)\n",
            "Requirement already satisfied: sympy in /usr/local/lib/python3.10/dist-packages (from torch==2.1.0->torchvision) (1.12)\n",
            "Requirement already satisfied: networkx in /usr/local/lib/python3.10/dist-packages (from torch==2.1.0->torchvision) (3.2.1)\n",
            "Requirement already satisfied: jinja2 in /usr/local/lib/python3.10/dist-packages (from torch==2.1.0->torchvision) (3.1.2)\n",
            "Requirement already satisfied: fsspec in /usr/local/lib/python3.10/dist-packages (from torch==2.1.0->torchvision) (2023.6.0)\n",
            "Requirement already satisfied: triton==2.1.0 in /usr/local/lib/python3.10/dist-packages (from torch==2.1.0->torchvision) (2.1.0)\n",
            "Requirement already satisfied: click in /usr/local/lib/python3.10/dist-packages (from nltk) (8.1.7)\n",
            "Requirement already satisfied: joblib in /usr/local/lib/python3.10/dist-packages (from nltk) (1.3.2)\n",
            "Requirement already satisfied: regex>=2021.8.3 in /usr/local/lib/python3.10/dist-packages (from nltk) (2023.6.3)\n",
            "Requirement already satisfied: tqdm in /usr/local/lib/python3.10/dist-packages (from nltk) (4.66.1)\n",
            "Requirement already satisfied: charset-normalizer<4,>=2 in /usr/local/lib/python3.10/dist-packages (from requests->torchvision) (3.3.2)\n",
            "Requirement already satisfied: idna<4,>=2.5 in /usr/local/lib/python3.10/dist-packages (from requests->torchvision) (3.4)\n",
            "Requirement already satisfied: urllib3<3,>=1.21.1 in /usr/local/lib/python3.10/dist-packages (from requests->torchvision) (2.0.7)\n",
            "Requirement already satisfied: certifi>=2017.4.17 in /usr/local/lib/python3.10/dist-packages (from requests->torchvision) (2023.7.22)\n",
            "Requirement already satisfied: MarkupSafe>=2.0 in /usr/local/lib/python3.10/dist-packages (from jinja2->torch==2.1.0->torchvision) (2.1.3)\n",
            "Requirement already satisfied: mpmath>=0.19 in /usr/local/lib/python3.10/dist-packages (from sympy->torch==2.1.0->torchvision) (1.3.0)\n",
            "Installing collected packages: lmdb\n",
            "Successfully installed lmdb-1.4.1\n"
          ]
        }
      ]
    },
    {
      "cell_type": "code",
      "source": [
        "# download the pre-trained model\n",
        "!wget -O TPS-ResNet-BiLSTM-Attn.pth \"https://drive.google.com/file/d/1b59rXuGGmKne1AuHnkgDzoYgKeETNMv9/view?usp=drive_link\""
      ],
      "metadata": {
        "id": "bDN9i-6kV4Fp",
        "outputId": "de6e4b8f-5b47-4167-92ae-01c524318ff5",
        "colab": {
          "base_uri": "https://localhost:8080/"
        }
      },
      "execution_count": null,
      "outputs": [
        {
          "output_type": "stream",
          "name": "stdout",
          "text": [
            "--2023-11-26 16:26:06--  https://drive.google.com/file/d/1b59rXuGGmKne1AuHnkgDzoYgKeETNMv9/view?usp=drive_link\n",
            "Resolving drive.google.com (drive.google.com)... 142.251.2.139, 142.251.2.102, 142.251.2.100, ...\n",
            "Connecting to drive.google.com (drive.google.com)|142.251.2.139|:443... connected.\n",
            "HTTP request sent, awaiting response... 200 OK\n",
            "Length: unspecified [text/html]\n",
            "Saving to: ‘TPS-ResNet-BiLSTM-Attn.pth’\n",
            "\n",
            "TPS-ResNet-BiLSTM-A     [ <=>                ]  81.93K  --.-KB/s    in 0.005s  \n",
            "\n",
            "2023-11-26 16:26:06 (15.5 MB/s) - ‘TPS-ResNet-BiLSTM-Attn.pth’ saved [83900]\n",
            "\n"
          ]
        }
      ]
    },
    {
      "cell_type": "code",
      "source": [
        "!gdown --id 1b59rXuGGmKne1AuHnkgDzoYgKeETNMv9 -O TPS-ResNet-BiLSTM-Attn.pth # that's the id of the model from the google drive link from above\n"
      ],
      "metadata": {
        "id": "HKiBsC30dXt4",
        "outputId": "df7c6ec9-4b8a-4937-e0d1-bc9cc0f31d7e",
        "colab": {
          "base_uri": "https://localhost:8080/"
        }
      },
      "execution_count": null,
      "outputs": [
        {
          "output_type": "stream",
          "name": "stdout",
          "text": [
            "/usr/local/lib/python3.10/dist-packages/gdown/cli.py:121: FutureWarning: Option `--id` was deprecated in version 4.3.1 and will be removed in 5.0. You don't need to pass it anymore to use a file ID.\n",
            "  warnings.warn(\n",
            "Downloading...\n",
            "From: https://drive.google.com/uc?id=1b59rXuGGmKne1AuHnkgDzoYgKeETNMv9\n",
            "To: /content/deep-text-recognition-benchmark/TPS-ResNet-BiLSTM-Attn.pth\n",
            "100% 199M/199M [00:03<00:00, 60.2MB/s]\n"
          ]
        }
      ]
    },
    {
      "cell_type": "code",
      "source": [
        "!CUDA_VISIBLE_DEVICES=0 python3 demo.py \\\n",
        "--Transformation TPS --FeatureExtraction ResNet --SequenceModeling BiLSTM --Prediction Attn \\\n",
        "--image_folder ./dataset/demo_image/ \\\n",
        "--saved_model TPS-ResNet-BiLSTM-Attn.pth"
      ],
      "metadata": {
        "colab": {
          "base_uri": "https://localhost:8080/"
        },
        "id": "FIHTe6K7WC2X",
        "outputId": "38ca7919-f45b-4df0-e0de-431a0dcda665"
      },
      "execution_count": null,
      "outputs": [
        {
          "output_type": "stream",
          "name": "stdout",
          "text": [
            "model input parameters 32 100 20 1 512 256 38 25 TPS ResNet BiLSTM Attn\n",
            "loading pretrained model from TPS-ResNet-BiLSTM-Attn.pth\n"
          ]
        }
      ]
    },
    {
      "cell_type": "code",
      "source": [
        "!python3 demo.py \\\n",
        "--Transformation TPS --FeatureExtraction ResNet --SequenceModeling BiLSTM --Prediction Attn \\\n",
        "--image_folder ./demo_image/ \\\n",
        "--saved_model TPS-ResNet-BiLSTM-Attn.pth"
      ],
      "metadata": {
        "id": "U6a-bo4dWTrW",
        "outputId": "22569a5b-0627-4ef1-c904-d88eff1a8cff",
        "colab": {
          "base_uri": "https://localhost:8080/"
        }
      },
      "execution_count": null,
      "outputs": [
        {
          "output_type": "stream",
          "name": "stdout",
          "text": [
            "I got here before main function\n",
            "model input parameters 32 100 20 1 512 256 38 25 TPS ResNet BiLSTM Attn\n",
            "loading pretrained model from TPS-ResNet-BiLSTM-Attn.pth\n",
            "after the model.eval\n",
            "hello, i am in no_grad\n",
            "Number of batches in loader: 1\n",
            "--------------------------------------------------------------------------------\n",
            "image_path               \tpredicted_labels         \tconfidence score\n",
            "--------------------------------------------------------------------------------\n",
            "./demo_image/demo_1.png  \tavailable                \t0.9999\n",
            "./demo_image/demo_2.jpg  \tshakeshack               \t0.9530\n",
            "./demo_image/demo_3.png  \tlondon                   \t0.9840\n",
            "./demo_image/demo_4.png  \tgreenstead               \t0.9985\n",
            "./demo_image/demo_5.png  \ttoast                    \t0.9961\n",
            "./demo_image/demo_6.png  \tmerry                    \t0.9975\n",
            "./demo_image/demo_7.png  \tunderground              \t1.0000\n",
            "./demo_image/demo_8.jpg  \tronaldo                  \t0.8387\n",
            "./demo_image/demo_9.jpg  \tbally                    \t0.7493\n",
            "./demo_image/demo_10.jpg \tuniversity               \t0.9998\n"
          ]
        }
      ]
    },
    {
      "cell_type": "markdown",
      "source": [
        "**observations**:\n",
        "\n",
        "The lowest confidence score are for a curved half-circle words.\n"
      ],
      "metadata": {
        "id": "BSzT7PEVo-1u"
      }
    },
    {
      "cell_type": "code",
      "source": [
        "%pwd"
      ],
      "metadata": {
        "id": "hBSOLHE9fPWl",
        "outputId": "5deed7fb-b32e-4007-b420-b3b5f42945b8",
        "colab": {
          "base_uri": "https://localhost:8080/",
          "height": 35
        }
      },
      "execution_count": null,
      "outputs": [
        {
          "output_type": "execute_result",
          "data": {
            "text/plain": [
              "'/content/deep-text-recognition-benchmark'"
            ],
            "application/vnd.google.colaboratory.intrinsic+json": {
              "type": "string"
            }
          },
          "metadata": {},
          "execution_count": 22
        }
      ]
    },
    {
      "cell_type": "code",
      "source": [
        "%ls"
      ],
      "metadata": {
        "id": "aBrirWIgixRO",
        "outputId": "4dc6ec01-4a49-4993-b87b-149b5757ea83",
        "colab": {
          "base_uri": "https://localhost:8080/"
        }
      },
      "execution_count": null,
      "outputs": [
        {
          "output_type": "stream",
          "name": "stdout",
          "text": [
            "create_lmdb_dataset.py  LICENSE.md                test.py\n",
            "\u001b[0m\u001b[01;34mdataset\u001b[0m/                \u001b[01;32mmodel.py\u001b[0m*                 TPS-ResNet-BiLSTM-Attn-case-sensitive.pth\n",
            "dataset.py              \u001b[01;34mmodules\u001b[0m/                  TPS-ResNet-BiLSTM-Attn.pth\n",
            "dataset.zip             None-ResNet-None-CTC.pth  TPS-ResNet-BiLSTM-CTC.pth\n",
            "\u001b[01;34mdemo_image\u001b[0m/             None-VGG-BiLSTM-CTC.pth   train.py\n",
            "demo.ipynb              None-VGG-None-CTC.pth     utils.py\n",
            "\u001b[01;32mdemo.py\u001b[0m*                \u001b[01;34m__pycache__\u001b[0m/\n",
            "\u001b[01;34mfigures\u001b[0m/                README.md\n"
          ]
        }
      ]
    },
    {
      "cell_type": "code",
      "source": [
        "%cd dataset"
      ],
      "metadata": {
        "id": "e4WeNAimvrNU",
        "outputId": "1e227ec3-093b-40d2-813b-3df3072cc0b8",
        "colab": {
          "base_uri": "https://localhost:8080/"
        }
      },
      "execution_count": null,
      "outputs": [
        {
          "output_type": "stream",
          "name": "stdout",
          "text": [
            "/content/deep-text-recognition-benchmark/dataset\n"
          ]
        }
      ]
    },
    {
      "cell_type": "code",
      "source": [
        "%cd /content/deep-text-recognition-benchmark"
      ],
      "metadata": {
        "id": "T4CCTifIvwfE",
        "outputId": "a01a962d-d4d5-4768-ba79-9256df53ab70",
        "colab": {
          "base_uri": "https://localhost:8080/"
        }
      },
      "execution_count": null,
      "outputs": [
        {
          "output_type": "stream",
          "name": "stdout",
          "text": [
            "/content/deep-text-recognition-benchmark\n"
          ]
        }
      ]
    },
    {
      "cell_type": "markdown",
      "source": [
        "**Please remember to correct the paths or similar ... to not spend time on debugging for nothing**"
      ],
      "metadata": {
        "id": "aWZDyNgOoxXp"
      }
    },
    {
      "cell_type": "code",
      "metadata": {
        "id": "bJRPln2QlxlJ",
        "colab": {
          "base_uri": "https://localhost:8080/",
          "height": 351
        },
        "outputId": "c644f5b7-28d4-47e1-9056-bd1b7d3c1a47"
      },
      "source": [
        "# also change the num_workers to 2, because that's what the GPU has"
      ],
      "execution_count": null,
      "outputs": [
        {
          "output_type": "error",
          "ename": "AttributeError",
          "evalue": "ignored",
          "traceback": [
            "\u001b[0;31m---------------------------------------------------------------------------\u001b[0m",
            "\u001b[0;31mAttributeError\u001b[0m                            Traceback (most recent call last)",
            "\u001b[0;32m<ipython-input-37-d27fa71ea9cb>\u001b[0m in \u001b[0;36m<cell line: 44>\u001b[0;34m()\u001b[0m\n\u001b[1;32m     42\u001b[0m \u001b[0;34m\u001b[0m\u001b[0m\n\u001b[1;32m     43\u001b[0m \u001b[0;31m# Use the opt object to create the model\u001b[0m\u001b[0;34m\u001b[0m\u001b[0;34m\u001b[0m\u001b[0m\n\u001b[0;32m---> 44\u001b[0;31m \u001b[0mmodel\u001b[0m \u001b[0;34m=\u001b[0m \u001b[0mModel\u001b[0m\u001b[0;34m(\u001b[0m\u001b[0mopt\u001b[0m\u001b[0;34m)\u001b[0m\u001b[0;34m\u001b[0m\u001b[0;34m\u001b[0m\u001b[0m\n\u001b[0m",
            "\u001b[0;32m/content/deep-text-recognition-benchmark/model.py\u001b[0m in \u001b[0;36m__init__\u001b[0;34m(self, opt)\u001b[0m\n\u001b[1;32m     64\u001b[0m             \u001b[0mself\u001b[0m\u001b[0;34m.\u001b[0m\u001b[0mPrediction\u001b[0m \u001b[0;34m=\u001b[0m \u001b[0mnn\u001b[0m\u001b[0;34m.\u001b[0m\u001b[0mLinear\u001b[0m\u001b[0;34m(\u001b[0m\u001b[0mself\u001b[0m\u001b[0;34m.\u001b[0m\u001b[0mSequenceModeling_output\u001b[0m\u001b[0;34m,\u001b[0m \u001b[0mopt\u001b[0m\u001b[0;34m.\u001b[0m\u001b[0mnum_class\u001b[0m\u001b[0;34m)\u001b[0m\u001b[0;34m\u001b[0m\u001b[0;34m\u001b[0m\u001b[0m\n\u001b[1;32m     65\u001b[0m         \u001b[0;32melif\u001b[0m \u001b[0mopt\u001b[0m\u001b[0;34m.\u001b[0m\u001b[0mPrediction\u001b[0m \u001b[0;34m==\u001b[0m \u001b[0;34m'Attn'\u001b[0m\u001b[0;34m:\u001b[0m\u001b[0;34m\u001b[0m\u001b[0;34m\u001b[0m\u001b[0m\n\u001b[0;32m---> 66\u001b[0;31m             \u001b[0mself\u001b[0m\u001b[0;34m.\u001b[0m\u001b[0mPrediction\u001b[0m \u001b[0;34m=\u001b[0m \u001b[0mAttention\u001b[0m\u001b[0;34m(\u001b[0m\u001b[0mself\u001b[0m\u001b[0;34m.\u001b[0m\u001b[0mSequenceModeling_output\u001b[0m\u001b[0;34m,\u001b[0m \u001b[0mopt\u001b[0m\u001b[0;34m.\u001b[0m\u001b[0mhidden_size\u001b[0m\u001b[0;34m,\u001b[0m \u001b[0mopt\u001b[0m\u001b[0;34m.\u001b[0m\u001b[0mnum_class\u001b[0m\u001b[0;34m)\u001b[0m\u001b[0;34m\u001b[0m\u001b[0;34m\u001b[0m\u001b[0m\n\u001b[0m\u001b[1;32m     67\u001b[0m         \u001b[0;32melse\u001b[0m\u001b[0;34m:\u001b[0m\u001b[0;34m\u001b[0m\u001b[0;34m\u001b[0m\u001b[0m\n\u001b[1;32m     68\u001b[0m             \u001b[0;32mraise\u001b[0m \u001b[0mException\u001b[0m\u001b[0;34m(\u001b[0m\u001b[0;34m'Prediction is neither CTC or Attn'\u001b[0m\u001b[0;34m)\u001b[0m\u001b[0;34m\u001b[0m\u001b[0;34m\u001b[0m\u001b[0m\n",
            "\u001b[0;31mAttributeError\u001b[0m: 'Namespace' object has no attribute 'num_class'"
          ]
        }
      ]
    },
    {
      "cell_type": "code",
      "source": [
        "\n"
      ],
      "metadata": {
        "id": "nhmRZ_IfsxlL"
      },
      "execution_count": null,
      "outputs": []
    },
    {
      "cell_type": "markdown",
      "source": [
        "## Augmentations:"
      ],
      "metadata": {
        "id": "vIBDQl1Kpn3C"
      }
    },
    {
      "cell_type": "code",
      "source": [
        "# i think it's easier to make a new python file of the same style of dataset.py with a new class Dataset like rawDataset\n",
        "# to make the augmentations\n",
        "# then we call it in the bash like above"
      ],
      "metadata": {
        "id": "InLuweeDrsbq"
      },
      "execution_count": null,
      "outputs": []
    },
    {
      "cell_type": "code",
      "source": [
        "# after applying the changes"
      ],
      "metadata": {
        "id": "meXNdR-uxrnK"
      },
      "execution_count": null,
      "outputs": []
    },
    {
      "cell_type": "code",
      "source": [
        "%cd ..\n",
        "# you should be in /content/deep-text-recognition-benchmark\n",
        "# to run the demo.py thing"
      ],
      "metadata": {
        "id": "7ReIfdQzxoOV",
        "outputId": "a005c551-664a-4b47-f034-b8c9b7348707",
        "colab": {
          "base_uri": "https://localhost:8080/"
        }
      },
      "execution_count": null,
      "outputs": [
        {
          "output_type": "stream",
          "name": "stdout",
          "text": [
            "/content/deep-text-recognition-benchmark\n"
          ]
        }
      ]
    },
    {
      "cell_type": "code",
      "source": [
        "!python3 demo.py \\\n",
        "--Transformation TPS --FeatureExtraction ResNet --SequenceModeling BiLSTM --Prediction Attn \\\n",
        "--image_folder ./demo_image/ \\\n",
        "--saved_model TPS-ResNet-BiLSTM-Attn.pth"
      ],
      "metadata": {
        "id": "Mc0KoDbxrs7W",
        "outputId": "b6639f14-977d-41b3-e019-f80bb1bf9396",
        "colab": {
          "base_uri": "https://localhost:8080/"
        }
      },
      "execution_count": null,
      "outputs": [
        {
          "output_type": "stream",
          "name": "stdout",
          "text": [
            "I got here before main function\n",
            "model input parameters 32 100 20 1 512 256 38 25 TPS ResNet BiLSTM Attn\n",
            "loading pretrained model from TPS-ResNet-BiLSTM-Attn.pth\n",
            "/usr/local/lib/python3.10/dist-packages/albumentations/augmentations/transforms.py:1284: FutureWarning: RandomContrast has been deprecated. Please use RandomBrightnessContrast\n",
            "  warnings.warn(\n",
            "i made the augdataset\n",
            "after the model.eval\n",
            "hello, i am in no_grad\n",
            "Number of batches in loader: 1\n",
            "--------------------------------------------------------------------------------\n",
            "image_path               \tpredicted_labels         \tconfidence score\n",
            "--------------------------------------------------------------------------------\n",
            "./demo_image/demo_1.png  \tsidelisva                \t0.5261\n",
            "./demo_image/demo_2.jpg  \tyoarzzair                \t0.0001\n",
            "./demo_image/demo_3.png  \tnobadi                   \t0.0766\n",
            "./demo_image/demo_4.png  \tgreenstead               \t0.9985\n",
            "./demo_image/demo_5.png  \ttzaot                    \t0.3119\n",
            "./demo_image/demo_6.png  \ttaa3m                    \t0.4461\n",
            "./demo_image/demo_7.png  \tunderground              \t1.0000\n",
            "./demo_image/demo_8.jpg  \toqialios                 \t0.1084\n",
            "./demo_image/demo_9.jpg  \thalaq                    \t0.0290\n",
            "./demo_image/demo_10.jpg \tuniversity               \t0.9999\n"
          ]
        }
      ]
    }
  ]
}